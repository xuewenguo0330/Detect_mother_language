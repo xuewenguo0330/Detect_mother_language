{
 "cells": [
  {
   "cell_type": "code",
   "execution_count": 1,
   "metadata": {},
   "outputs": [],
   "source": [
    "import pandas as pd\n",
    "import numpy as np\n",
    "import re\n",
    "from nltk.stem import WordNetLemmatizer\n",
    "from nltk.corpus import stopwords\n",
    "import nltk"
   ]
  },
  {
   "cell_type": "code",
   "execution_count": 2,
   "metadata": {},
   "outputs": [],
   "source": [
    "f = open(\"train.txt\",'r')"
   ]
  },
  {
   "cell_type": "code",
   "execution_count": 3,
   "metadata": {},
   "outputs": [],
   "source": [
    "label=[]\n",
    "phrase=[]\n",
    "lines = f.readlines()\n",
    "for l in lines:\n",
    "    label.append(l[:5])\n",
    "    phrase.append(l[5:])"
   ]
  },
  {
   "cell_type": "code",
   "execution_count": 4,
   "metadata": {},
   "outputs": [
    {
     "name": "stdout",
     "output_type": "stream",
     "text": [
      "{'(GER)', '(ITA)', '(ARA)', '(KOR)', '(SPA)', '(TEL)', '(FRE)', '(TUR)', '(HIN)', '(CHI)', '(JPN)'}\n"
     ]
    }
   ],
   "source": [
    "labelSet=set(label)\n",
    "print(labelSet)"
   ]
  },
  {
   "cell_type": "code",
   "execution_count": 5,
   "metadata": {},
   "outputs": [
    {
     "name": "stdout",
     "output_type": "stream",
     "text": [
      "      label                                                doc\n",
      "0     (GER)   IThe importance and popularity of travelling ...\n",
      "1     (TUR)   It is an important decision , how to plan you...\n",
      "2     (CHI)   Some people believe that young people can enj...\n",
      "3     (TEL)   Travelling is usually considered as good recr...\n",
      "4     (ARA)   i agree that . Life is a person live period o...\n",
      "...     ...                                                ...\n",
      "9895  (CHI)   Nowadays , more and more people go abroad , n...\n",
      "9896  (KOR)   In accomplishing something that is risky come...\n",
      "9897  (SPA)   At the beginning of the 21st century , the in...\n",
      "9898  (HIN)   The number of cars in use across the world ha...\n",
      "9899  (CHI)   Many people think it is betters to have borad...\n",
      "\n",
      "[9900 rows x 2 columns]\n"
     ]
    }
   ],
   "source": [
    "df = pd.DataFrame(list(zip(label, phrase)), columns =['label', 'doc']) \n",
    "print(df) "
   ]
  },
  {
   "cell_type": "code",
   "execution_count": 6,
   "metadata": {},
   "outputs": [],
   "source": [
    "from sklearn.preprocessing import LabelEncoder\n",
    "X=df[\"doc\"]\n",
    "y=df[\"label\"]\n",
    "lf = LabelEncoder().fit(y)\n",
    "new_y = lf.transform(y)"
   ]
  },
  {
   "cell_type": "code",
   "execution_count": 7,
   "metadata": {},
   "outputs": [],
   "source": [
    "y=df[\"label\"].tolist()\n",
    "le = LabelEncoder()\n",
    "le.fit(df.label.unique())\n",
    "new_y=le.fit_transform(y)"
   ]
  },
  {
   "attachments": {},
   "cell_type": "markdown",
   "metadata": {},
   "source": [
    "# TF-IDF avec logistic regression"
   ]
  },
  {
   "cell_type": "code",
   "execution_count": 8,
   "metadata": {},
   "outputs": [],
   "source": [
    "from sklearn.feature_extraction.text import CountVectorizer, TfidfVectorizer,TfidfTransformer\n",
    "\n",
    "cv = CountVectorizer(stop_words='english')\n",
    "cv_X = cv.fit_transform(X)\n",
    "\n",
    "tf = TfidfVectorizer(stop_words='english')\n",
    "tf_X = tf.fit_transform(X)"
   ]
  },
  {
   "cell_type": "code",
   "execution_count": 9,
   "metadata": {},
   "outputs": [],
   "source": [
    "from sklearn.model_selection import train_test_split\n",
    "X_train, X_test, y_train, y_test = train_test_split(X, new_y, random_state=4)"
   ]
  },
  {
   "cell_type": "code",
   "execution_count": 10,
   "metadata": {},
   "outputs": [],
   "source": [
    "cv_train = cv.transform(X_train)\n",
    "cv_test = cv.transform(X_test)\n",
    "cv_X = cv.transform(X)\n"
   ]
  },
  {
   "cell_type": "code",
   "execution_count": 11,
   "metadata": {},
   "outputs": [
    {
     "data": {
      "text/plain": [
       "0        IThe importance and popularity of travelling ...\n",
       "1        It is an important decision , how to plan you...\n",
       "2        Some people believe that young people can enj...\n",
       "3        Travelling is usually considered as good recr...\n",
       "4        i agree that . Life is a person live period o...\n",
       "                              ...                        \n",
       "9895     Nowadays , more and more people go abroad , n...\n",
       "9896     In accomplishing something that is risky come...\n",
       "9897     At the beginning of the 21st century , the in...\n",
       "9898     The number of cars in use across the world ha...\n",
       "9899     Many people think it is betters to have borad...\n",
       "Name: doc, Length: 9900, dtype: object"
      ]
     },
     "execution_count": 11,
     "metadata": {},
     "output_type": "execute_result"
    }
   ],
   "source": [
    "df.doc"
   ]
  },
  {
   "cell_type": "code",
   "execution_count": 12,
   "metadata": {},
   "outputs": [
    {
     "name": "stdout",
     "output_type": "stream",
     "text": [
      "0.6787878787878788\n"
     ]
    },
    {
     "name": "stderr",
     "output_type": "stream",
     "text": [
      "c:\\Users\\guoxu\\Desktop\\myenvs\\mlstat\\Lib\\site-packages\\sklearn\\linear_model\\_logistic.py:458: ConvergenceWarning: lbfgs failed to converge (status=1):\n",
      "STOP: TOTAL NO. of ITERATIONS REACHED LIMIT.\n",
      "\n",
      "Increase the number of iterations (max_iter) or scale the data as shown in:\n",
      "    https://scikit-learn.org/stable/modules/preprocessing.html\n",
      "Please also refer to the documentation for alternative solver options:\n",
      "    https://scikit-learn.org/stable/modules/linear_model.html#logistic-regression\n",
      "  n_iter_i = _check_optimize_result(\n"
     ]
    }
   ],
   "source": [
    "# tf -idf with lr\n",
    "from sklearn.metrics import accuracy_score\n",
    "from sklearn.model_selection import train_test_split\n",
    "from sklearn.svm import SVC\n",
    "from sklearn.linear_model import LogisticRegression\n",
    "vectorizer = TfidfVectorizer()\n",
    "X_counts = vectorizer.fit_transform(df.doc)\n",
    "X_train, X_test, y_train, y_test = train_test_split(X_counts, new_y, test_size=0.2, random_state=42)\n",
    "lr = LogisticRegression()\n",
    "lr.fit(X_train, y_train)\n",
    "y_pred = lr.predict(X_test)\n",
    "accuracy = accuracy_score(y_test, y_pred)\n",
    "print(accuracy)"
   ]
  },
  {
   "cell_type": "code",
   "execution_count": 13,
   "metadata": {},
   "outputs": [
    {
     "name": "stdout",
     "output_type": "stream",
     "text": [
      "0.6787878787878788\n"
     ]
    },
    {
     "name": "stderr",
     "output_type": "stream",
     "text": [
      "c:\\Users\\guoxu\\Desktop\\myenvs\\mlstat\\Lib\\site-packages\\sklearn\\linear_model\\_logistic.py:458: ConvergenceWarning: lbfgs failed to converge (status=1):\n",
      "STOP: TOTAL NO. of ITERATIONS REACHED LIMIT.\n",
      "\n",
      "Increase the number of iterations (max_iter) or scale the data as shown in:\n",
      "    https://scikit-learn.org/stable/modules/preprocessing.html\n",
      "Please also refer to the documentation for alternative solver options:\n",
      "    https://scikit-learn.org/stable/modules/linear_model.html#logistic-regression\n",
      "  n_iter_i = _check_optimize_result(\n"
     ]
    }
   ],
   "source": [
    "from sklearn.metrics import accuracy_score\n",
    "from sklearn.model_selection import train_test_split\n",
    "from sklearn.svm import SVC\n",
    "from sklearn.linear_model import LogisticRegression\n",
    "vectorizer = TfidfVectorizer()\n",
    "X_counts = vectorizer.fit_transform(df.doc)\n",
    "X_train, X_test, y_train, y_test = train_test_split(X_counts, new_y, test_size=0.2, random_state=42)\n",
    "lr = LogisticRegression()\n",
    "bow_lr = lr.fit(X_train, y_train)\n",
    "y_pred = bow_lr.predict(X_test)\n",
    "accuracy = accuracy_score(y_test, y_pred)\n",
    "print(accuracy)"
   ]
  },
  {
   "cell_type": "code",
   "execution_count": 16,
   "metadata": {},
   "outputs": [
    {
     "name": "stdout",
     "output_type": "stream",
     "text": [
      "0.6116161616161616\n"
     ]
    }
   ],
   "source": [
    "# cv with lr \n",
    "vectorizer = CountVectorizer()\n",
    "X_counts = vectorizer.fit_transform(df.doc)\n",
    "X_train, X_test, y_train, y_test = train_test_split(X_counts, new_y, test_size=0.2, random_state=42)\n",
    "svm = SVC(kernel='linear', random_state = 29)\n",
    "svm.fit(X_train, y_train)\n",
    "y_pred = svm.predict(X_test)\n",
    "accuracy = accuracy_score(y_test, y_pred)\n",
    "print(accuracy)"
   ]
  },
  {
   "cell_type": "code",
   "execution_count": 20,
   "metadata": {},
   "outputs": [
    {
     "data": {
      "text/plain": [
       "<AxesSubplot: >"
      ]
     },
     "execution_count": 20,
     "metadata": {},
     "output_type": "execute_result"
    },
    {
     "data": {
      "image/png": "[encoded data removed]",
      "text/plain": [
       "<Figure size 1000x700 with 2 Axes>"
      ]
     },
     "metadata": {},
     "output_type": "display_data"
    }
   ],
   "source": [
    "import seaborn as sns\n",
    "from sklearn.metrics import confusion_matrix\n",
    "import matplotlib.pyplot as plt\n",
    "C2 = confusion_matrix(y_test,y_pred)\n",
    "df_cm = pd.DataFrame(C2)\n",
    "plt.figure(figsize = (10,7))\n",
    "sns.heatmap(df_cm, annot=True)"
   ]
  },
  {
   "cell_type": "code",
   "execution_count": null,
   "metadata": {},
   "outputs": [],
   "source": []
  }
 ],
 "metadata": {
  "kernelspec": {
   "display_name": "mlstat",
   "language": "python",
   "name": "python3"
  },
  "language_info": {
   "codemirror_mode": {
    "name": "ipython",
    "version": 3
   },
   "file_extension": ".py",
   "mimetype": "text/x-python",
   "name": "python",
   "nbconvert_exporter": "python",
   "pygments_lexer": "ipython3",
   "version": "3.11.1"
  },
  "orig_nbformat": 4,
  "vscode": {
   "interpreter": {
    "hash": "d001fa7485ee5417707eb045e9a85cc01382595252d4975bf0773f2086f2f98b"
   }
  }
 },
 "nbformat": 4,
 "nbformat_minor": 2
}
