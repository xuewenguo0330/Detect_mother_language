{
 "cells": [
  {
   "cell_type": "code",
   "execution_count": 1,
   "metadata": {},
   "outputs": [],
   "source": [
    "\n",
    "import tensorflow as tf\n",
    "from sklearn.model_selection import train_test_split\n",
    "import pandas as pd\n",
    "import numpy as np\n",
    "import re\n",
    "import nltk\n",
    "from sklearn.model_selection import KFold\n",
    "from sklearn.preprocessing import LabelEncoder"
   ]
  },
  {
   "cell_type": "code",
   "execution_count": 2,
   "metadata": {},
   "outputs": [],
   "source": [
    "\n",
    "import pandas as pd\n",
    "import numpy as np\n",
    "import re\n",
    "import nltk\n",
    "from sklearn.model_selection import KFold\n",
    "from sklearn.preprocessing import LabelEncoder\n",
    "from sklearn.feature_extraction.text import CountVectorizer, TfidfVectorizer\n",
    "from sklearn.metrics import confusion_matrix\n",
    "from sklearn.metrics import accuracy_score"
   ]
  },
  {
   "cell_type": "code",
   "execution_count": 3,
   "metadata": {},
   "outputs": [],
   "source": [
    "f = open(\"train.txt\",'r')\n",
    "\n",
    "'''\n",
    "    Les données sont enregistrés sur df avec deux colonnes \n",
    "    colonne 'label' => langage maternelle\n",
    "    colonne 'doc' => phrases en anglais \n",
    "'''\n",
    "label=[]\n",
    "phrase=[]\n",
    "lines = f.readlines()\n",
    "for l in lines:\n",
    "    label.append(l[:5])\n",
    "    phrase.append(l[5:])\n",
    "labelSet=set(label)\n",
    "df = pd.DataFrame(list(zip(label, phrase)), columns =['label', 'doc']) "
   ]
  },
  {
   "cell_type": "code",
   "execution_count": 4,
   "metadata": {},
   "outputs": [
    {
     "name": "stdout",
     "output_type": "stream",
     "text": [
      "[('(ARA)', 0), ('(CHI)', 1), ('(FRE)', 2), ('(GER)', 3), ('(HIN)', 4), ('(ITA)', 5), ('(JPN)', 6), ('(KOR)', 7), ('(SPA)', 8), ('(TEL)', 9), ('(TUR)', 10)]\n"
     ]
    }
   ],
   "source": [
    "Y=df[\"label\"].tolist()\n",
    "le = LabelEncoder()\n",
    "le.fit(df.label.unique())\n",
    "langue = le.classes_\n",
    "y=le.fit_transform(Y)\n",
    "\n",
    "langue_encoder = [(langue[i],i) for i in range(len(langue))]\n",
    "print(langue_encoder)\n"
   ]
  },
  {
   "cell_type": "code",
   "execution_count": 6,
   "metadata": {},
   "outputs": [
    {
     "name": "stdout",
     "output_type": "stream",
     "text": [
      "Epoch 1/10\n",
      "223/223 [==============================] - 4s 14ms/step - loss: 2.3175 - accuracy: 0.1667 - val_loss: 2.0225 - val_accuracy: 0.3333\n",
      "Epoch 2/10\n",
      "223/223 [==============================] - 5s 23ms/step - loss: 1.7279 - accuracy: 0.3803 - val_loss: 1.3796 - val_accuracy: 0.5682\n",
      "Epoch 3/10\n",
      "223/223 [==============================] - 2s 9ms/step - loss: 1.1922 - accuracy: 0.5787 - val_loss: 1.0634 - val_accuracy: 0.6705\n",
      "Epoch 4/10\n",
      "223/223 [==============================] - 2s 9ms/step - loss: 0.8293 - accuracy: 0.7210 - val_loss: 0.9131 - val_accuracy: 0.7033\n",
      "Epoch 5/10\n",
      "223/223 [==============================] - 2s 9ms/step - loss: 0.5999 - accuracy: 0.8084 - val_loss: 0.8523 - val_accuracy: 0.6982\n",
      "Epoch 6/10\n",
      "223/223 [==============================] - 2s 9ms/step - loss: 0.4461 - accuracy: 0.8685 - val_loss: 0.8306 - val_accuracy: 0.6995\n",
      "Epoch 7/10\n",
      "223/223 [==============================] - 2s 9ms/step - loss: 0.3323 - accuracy: 0.9039 - val_loss: 0.8257 - val_accuracy: 0.6982\n",
      "Epoch 8/10\n",
      "223/223 [==============================] - 2s 9ms/step - loss: 0.2559 - accuracy: 0.9272 - val_loss: 0.8319 - val_accuracy: 0.7134\n",
      "Epoch 9/10\n",
      "223/223 [==============================] - 2s 9ms/step - loss: 0.1981 - accuracy: 0.9508 - val_loss: 0.8517 - val_accuracy: 0.7121\n",
      "Epoch 10/10\n",
      "223/223 [==============================] - 2s 9ms/step - loss: 0.1607 - accuracy: 0.9575 - val_loss: 0.8965 - val_accuracy: 0.7045\n",
      "62/62 [==============================] - 0s 1ms/step\n",
      "Test accuracy: 0.7273\n"
     ]
    }
   ],
   "source": [
    "\n",
    "def nlp_tfidf_classification(X,y_encoded):\n",
    "    tfidf_vectorizer = TfidfVectorizer(max_features=10000)\n",
    "    X_tfidf = tfidf_vectorizer.fit_transform(X)\n",
    "    X_tfidf = X_tfidf.toarray()\n",
    "\n",
    "    X_train, X_test, y_train, y_test = train_test_split(X_tfidf, y_encoded, test_size=0.2, random_state=42)\n",
    "\n",
    "    model = tf.keras.Sequential([\n",
    "        tf.keras.layers.Input(shape=(X_tfidf.shape[1],)),\n",
    "        tf.keras.layers.Dense(128, activation='relu'),\n",
    "        tf.keras.layers.Dropout(0.5),\n",
    "        tf.keras.layers.Dense(64, activation='relu'),\n",
    "        tf.keras.layers.Dropout(0.5),\n",
    "        tf.keras.layers.Dense(11, activation='softmax')\n",
    "    ])\n",
    "\n",
    "    model.compile(optimizer='adam', loss='sparse_categorical_crossentropy', metrics=['accuracy'])\n",
    "\n",
    "    model.fit(X_train, y_train, epochs=10, batch_size=32, validation_split=0.1)\n",
    "    \n",
    "    y_pred = model.predict(X_test).argmax(axis=1)\n",
    "\n",
    "    accuracy = accuracy_score(y_test, y_pred)\n",
    "    print(f\"Test accuracy: {accuracy:.4f}\")\n",
    "\n",
    "    return model,y_pred,y_test\n",
    "\n",
    "model,y_pred,y_test = nlp_tfidf_classification(df[\"doc\"],y)\n",
    "\n"
   ]
  },
  {
   "cell_type": "code",
   "execution_count": 63,
   "metadata": {},
   "outputs": [
    {
     "name": "stdout",
     "output_type": "stream",
     "text": [
      "Epoch 1/10\n",
      "223/223 [==============================] - 3s 11ms/step - loss: 2.3096 - accuracy: 0.1661 - val_loss: 1.9764 - val_accuracy: 0.4053\n",
      "Epoch 2/10\n",
      "223/223 [==============================] - 2s 9ms/step - loss: 1.6838 - accuracy: 0.3930 - val_loss: 1.3793 - val_accuracy: 0.5985\n",
      "Epoch 3/10\n",
      "223/223 [==============================] - 2s 10ms/step - loss: 1.1961 - accuracy: 0.5824 - val_loss: 1.0984 - val_accuracy: 0.6641\n",
      "Epoch 4/10\n",
      "223/223 [==============================] - 2s 9ms/step - loss: 0.8681 - accuracy: 0.7015 - val_loss: 0.9320 - val_accuracy: 0.6982\n",
      "Epoch 5/10\n",
      "223/223 [==============================] - 2s 9ms/step - loss: 0.6288 - accuracy: 0.8012 - val_loss: 0.8688 - val_accuracy: 0.7109\n",
      "Epoch 6/10\n",
      "223/223 [==============================] - 2s 10ms/step - loss: 0.4557 - accuracy: 0.8593 - val_loss: 0.8306 - val_accuracy: 0.7159\n",
      "Epoch 7/10\n",
      "223/223 [==============================] - 2s 10ms/step - loss: 0.3417 - accuracy: 0.8981 - val_loss: 0.8309 - val_accuracy: 0.7235\n",
      "Epoch 8/10\n",
      "223/223 [==============================] - 2s 10ms/step - loss: 0.2704 - accuracy: 0.9223 - val_loss: 0.8365 - val_accuracy: 0.7311\n",
      "Epoch 9/10\n",
      "223/223 [==============================] - 2s 10ms/step - loss: 0.2175 - accuracy: 0.9393 - val_loss: 0.8640 - val_accuracy: 0.7172\n",
      "Epoch 10/10\n",
      "223/223 [==============================] - 2s 10ms/step - loss: 0.1782 - accuracy: 0.9508 - val_loss: 0.8784 - val_accuracy: 0.7184\n",
      "62/62 [==============================] - 0s 2ms/step\n",
      "Test accuracy: 0.7222\n"
     ]
    }
   ],
   "source": [
    "model,y_pred,y_test = nlp_tfidf_classification(df[\"doc\"],y)"
   ]
  },
  {
   "cell_type": "code",
   "execution_count": 7,
   "metadata": {},
   "outputs": [
    {
     "data": {
      "text/plain": [
       "<AxesSubplot: >"
      ]
     },
     "execution_count": 7,
     "metadata": {},
     "output_type": "execute_result"
    },
    {
     "data": {
      "image/png": "[encoded data removed]",
      "text/plain": [
       "<Figure size 1000x700 with 2 Axes>"
      ]
     },
     "metadata": {},
     "output_type": "display_data"
    }
   ],
   "source": [
    "import seaborn as sns\n",
    "from sklearn.metrics import confusion_matrix\n",
    "import matplotlib.pyplot as plt\n",
    "C2 = confusion_matrix(y_test,y_pred)\n",
    "df_cm = pd.DataFrame(C2, index=list(langue), columns=list(langue))\n",
    "plt.figure(figsize = (10,7))\n",
    "sns.heatmap(df_cm, annot=True)"
   ]
  },
  {
   "attachments": {},
   "cell_type": "markdown",
   "metadata": {},
   "source": [
    "TEL9 et HIN4 est tres facile de mélanger, on faire une modele pour classifier que HIN et TEL"
   ]
  },
  {
   "cell_type": "code",
   "execution_count": 8,
   "metadata": {},
   "outputs": [],
   "source": [
    "TEL = df[df.label == \"(TEL)\"]\n",
    "HIN = df[df.label == \"(HIN)\"]\n",
    "\n",
    "df_HIN_TEL = pd.concat([TEL, HIN])\n",
    "y_HINTEL = df_HIN_TEL.label.tolist()\n",
    "for i in range(len(y_HINTEL)):\n",
    "    y_HINTEL[i] = 1 if y_HINTEL[i] == \"(TEL)\" else 0\n",
    "    # 1 : TEL\n",
    "y_HINTEL = np.array(y_HINTEL)\n"
   ]
  },
  {
   "cell_type": "code",
   "execution_count": 9,
   "metadata": {},
   "outputs": [],
   "source": [
    "X=df_HIN_TEL[\"doc\"]\n",
    "y_encoded = y_HINTEL\n",
    "tfidf_vectorizer = TfidfVectorizer(max_features=10000)\n",
    "X_tfidf = tfidf_vectorizer.fit_transform(X)\n",
    "X_tfidf = X_tfidf.toarray()\n",
    "\n",
    "X_train, X_test, y_train, y_test = train_test_split(X_tfidf, y_encoded, test_size=0.2, random_state=42)"
   ]
  },
  {
   "cell_type": "code",
   "execution_count": 10,
   "metadata": {},
   "outputs": [
    {
     "data": {
      "text/plain": [
       "array([1, 1, 0, ..., 1, 0, 0])"
      ]
     },
     "execution_count": 10,
     "metadata": {},
     "output_type": "execute_result"
    }
   ],
   "source": [
    "y_train"
   ]
  },
  {
   "cell_type": "code",
   "execution_count": 12,
   "metadata": {},
   "outputs": [],
   "source": [
    "def nlp_tfidf_sous_classification(X,y_encoded):\n",
    "    tfidf_vectorizer = TfidfVectorizer(max_features=10000)\n",
    "    X_tfidf = tfidf_vectorizer.fit_transform(X)\n",
    "    X_tfidf = X_tfidf.toarray()\n",
    "\n",
    "    X_train, X_test, y_train, y_test = train_test_split(X_tfidf, y_encoded, test_size=0.2, random_state=42)\n",
    "\n",
    "    model = tf.keras.Sequential([\n",
    "        tf.keras.layers.Input(shape=(X_tfidf.shape[1],)),\n",
    "        tf.keras.layers.Dense(128, activation='relu'),\n",
    "        tf.keras.layers.Dropout(0.5),\n",
    "        tf.keras.layers.Dense(64, activation='relu'),\n",
    "        tf.keras.layers.Dropout(0.5),\n",
    "        tf.keras.layers.Dense(2, activation='softmax')\n",
    "    ])\n",
    "\n",
    "    model.compile(optimizer='adam', loss='sparse_categorical_crossentropy', metrics=['accuracy'])\n",
    "\n",
    "    model.fit(X_train, y_train, epochs=10, batch_size=32, validation_split=0.1)\n",
    "    \n",
    "    y_pred = model.predict(X_test).argmax(axis=1)\n",
    "\n",
    "    accuracy = accuracy_score(y_test, y_pred)\n",
    "    print(f\"Test accuracy: {accuracy:.4f}\")\n",
    "\n",
    "    return model,y_pred,y_test"
   ]
  },
  {
   "cell_type": "code",
   "execution_count": 13,
   "metadata": {},
   "outputs": [
    {
     "name": "stdout",
     "output_type": "stream",
     "text": [
      "Epoch 1/10\n",
      "41/41 [==============================] - 1s 14ms/step - loss: 0.6867 - accuracy: 0.5525 - val_loss: 0.6770 - val_accuracy: 0.6111\n",
      "Epoch 2/10\n",
      "41/41 [==============================] - 0s 9ms/step - loss: 0.6159 - accuracy: 0.7346 - val_loss: 0.5912 - val_accuracy: 0.7361\n",
      "Epoch 3/10\n",
      "41/41 [==============================] - 0s 9ms/step - loss: 0.4260 - accuracy: 0.8480 - val_loss: 0.4619 - val_accuracy: 0.7708\n",
      "Epoch 4/10\n",
      "41/41 [==============================] - 0s 11ms/step - loss: 0.2173 - accuracy: 0.9329 - val_loss: 0.4520 - val_accuracy: 0.7708\n",
      "Epoch 5/10\n",
      "41/41 [==============================] - 0s 9ms/step - loss: 0.0991 - accuracy: 0.9792 - val_loss: 0.4941 - val_accuracy: 0.7639\n",
      "Epoch 6/10\n",
      "41/41 [==============================] - 0s 9ms/step - loss: 0.0460 - accuracy: 0.9907 - val_loss: 0.5344 - val_accuracy: 0.7639\n",
      "Epoch 7/10\n",
      "41/41 [==============================] - 0s 9ms/step - loss: 0.0254 - accuracy: 0.9961 - val_loss: 0.5772 - val_accuracy: 0.7500\n",
      "Epoch 8/10\n",
      "41/41 [==============================] - 0s 9ms/step - loss: 0.0126 - accuracy: 1.0000 - val_loss: 0.5873 - val_accuracy: 0.7431\n",
      "Epoch 9/10\n",
      "41/41 [==============================] - 0s 9ms/step - loss: 0.0110 - accuracy: 0.9985 - val_loss: 0.6095 - val_accuracy: 0.7431\n",
      "Epoch 10/10\n",
      "41/41 [==============================] - 0s 9ms/step - loss: 0.0065 - accuracy: 1.0000 - val_loss: 0.6337 - val_accuracy: 0.7361\n",
      "12/12 [==============================] - 0s 2ms/step\n",
      "Test accuracy: 0.7861\n"
     ]
    }
   ],
   "source": [
    "sousModel,sous_y_pred,sous_y_test = nlp_tfidf_sous_classification(df_HIN_TEL[\"doc\"],y_HINTEL)"
   ]
  },
  {
   "cell_type": "code",
   "execution_count": 119,
   "metadata": {},
   "outputs": [
    {
     "name": "stdout",
     "output_type": "stream",
     "text": [
      "(1350, 20134)\n"
     ]
    }
   ],
   "source": [
    "from sklearn.feature_extraction.text import CountVectorizer, TfidfVectorizer,TfidfTransformer\n",
    "\n",
    "HT_X = df_HIN_TEL[\"doc\"]\n",
    "cv = CountVectorizer()\n",
    "cv_X = cv.fit_transform(HT_X)\n",
    "\n",
    "\n",
    "\n",
    "from sklearn.model_selection import train_test_split\n",
    "X_train, X_test, y_train, y_test = train_test_split(cv_X, y_HINTEL, random_state=4)\n",
    "\n",
    "\n",
    "print(X_train.shape)"
   ]
  },
  {
   "cell_type": "code",
   "execution_count": 123,
   "metadata": {},
   "outputs": [
    {
     "name": "stdout",
     "output_type": "stream",
     "text": [
      "0.7888888888888889\n"
     ]
    }
   ],
   "source": [
    "\n",
    "tfV = TfidfVectorizer(ngram_range=(2,2))\n",
    "tf_X = tfV.fit_transform(X)\n",
    "X_trainTF, X_testTF, y_trainTF, y_testTF = train_test_split(tf_X, y_HINTEL, random_state=4)\n",
    "\n",
    "from sklearn.linear_model import LogisticRegression\n",
    "lr = LogisticRegression()\n",
    "tf_lr = lr.fit(X_trainTF, y_trainTF)\n",
    "y_pred = tf_lr.predict(X_testTF)\n",
    "accuracy = accuracy_score(y_testTF, y_pred)\n",
    "print(accuracy)"
   ]
  },
  {
   "cell_type": "code",
   "execution_count": 115,
   "metadata": {},
   "outputs": [
    {
     "name": "stdout",
     "output_type": "stream",
     "text": [
      "0.7511111111111111\n"
     ]
    },
    {
     "name": "stderr",
     "output_type": "stream",
     "text": [
      "c:\\Users\\guoxu\\Desktop\\myenvs\\mlstat\\Lib\\site-packages\\sklearn\\linear_model\\_logistic.py:458: ConvergenceWarning: lbfgs failed to converge (status=1):\n",
      "STOP: TOTAL NO. of ITERATIONS REACHED LIMIT.\n",
      "\n",
      "Increase the number of iterations (max_iter) or scale the data as shown in:\n",
      "    https://scikit-learn.org/stable/modules/preprocessing.html\n",
      "Please also refer to the documentation for alternative solver options:\n",
      "    https://scikit-learn.org/stable/modules/linear_model.html#logistic-regression\n",
      "  n_iter_i = _check_optimize_result(\n"
     ]
    }
   ],
   "source": [
    "\n",
    "lr = LogisticRegression()\n",
    "bow_lr = lr.fit(X_train, y_train)\n",
    "y_pred = bow_lr.predict(X_test)\n",
    "accuracy = accuracy_score(y_test, y_pred)\n",
    "print(accuracy)"
   ]
  },
  {
   "cell_type": "code",
   "execution_count": 14,
   "metadata": {},
   "outputs": [
    {
     "name": "stdout",
     "output_type": "stream",
     "text": [
      "Test accuracy: 0.87\n"
     ]
    }
   ],
   "source": [
    "def nlp_tfidf_sous_classification(X,y_encoded):\n",
    "    tfidf_vectorizer = TfidfVectorizer(max_features=10000)\n",
    "    X_tfidf = tfidf_vectorizer.fit_transform(X)\n",
    "    X_tfidf = X_tfidf.toarray()\n",
    "\n",
    "    X_train, X_test, y_train, y_test = train_test_split(X_tfidf, y_encoded, test_size=0.2, random_state=42)\n",
    "\n",
    "    model = tf.keras.Sequential([\n",
    "        tf.keras.layers.Input(shape=(X_tfidf.shape[1],)),\n",
    "        tf.keras.layers.Dense(128, activation='relu'),\n",
    "        tf.keras.layers.Dropout(0.5),\n",
    "        tf.keras.layers.Dense(64, activation='relu'),\n",
    "        tf.keras.layers.Dropout(0.5),\n",
    "        tf.keras.layers.Dense(2, activation='softmax')\n",
    "    ])\n",
    "\n",
    "    model.compile(optimizer='adam', loss='sparse_categorical_crossentropy', metrics=['accuracy'])\n",
    "\n",
    "    model.fit(X_train, y_train, epochs=10, batch_size=32, validation_split=0.1)\n",
    "    \n",
    "    y_pred = model.predict(X_test).argmax(axis=1)\n",
    "\n",
    "    tfV = TfidfVectorizer(ngram_range=(2,2))\n",
    "    tf_X = tfV.fit_transform(X)\n",
    "    X_trainTF, X_testTF, y_trainTF, y_testTF = train_test_split(tf_X, y_HINTEL, random_state=4)\n",
    "\n",
    "    from sklearn.linear_model import LogisticRegression\n",
    "    lr = LogisticRegression()\n",
    "    tf_lr = lr.fit(X_trainTF, y_trainTF)\n",
    "    y_pred = tf_lr.predict(X_testTF)\n",
    "\n",
    "    accuracy = accuracy_score(y_test, y_pred)\n",
    "    print(f\"Test accuracy: {accuracy:.4f}\")\n",
    "\n",
    "    return model,\n"
   ]
  },
  {
   "cell_type": "code",
   "execution_count": null,
   "metadata": {},
   "outputs": [],
   "source": []
  }
 ],
 "metadata": {
  "kernelspec": {
   "display_name": "mlstat",
   "language": "python",
   "name": "python3"
  },
  "language_info": {
   "codemirror_mode": {
    "name": "ipython",
    "version": 3
   },
   "file_extension": ".py",
   "mimetype": "text/x-python",
   "name": "python",
   "nbconvert_exporter": "python",
   "pygments_lexer": "ipython3",
   "version": "3.11.1"
  },
  "orig_nbformat": 4
 },
 "nbformat": 4,
 "nbformat_minor": 2
}
