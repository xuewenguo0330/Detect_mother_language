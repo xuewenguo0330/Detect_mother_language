{
 "cells": [
  {
   "cell_type": "code",
   "execution_count": 1,
   "metadata": {},
   "outputs": [],
   "source": [
    "import pandas as pd\n",
    "import numpy as np\n",
    "import re\n",
    "from nltk.stem import WordNetLemmatizer\n",
    "from nltk.corpus import stopwords\n",
    "import nltk"
   ]
  },
  {
   "cell_type": "code",
   "execution_count": 2,
   "metadata": {},
   "outputs": [],
   "source": [
    "f = open(\"train.txt\",'r')"
   ]
  },
  {
   "cell_type": "code",
   "execution_count": 3,
   "metadata": {},
   "outputs": [],
   "source": [
    "label=[]\n",
    "phrase=[]\n",
    "lines = f.readlines()\n",
    "for l in lines:\n",
    "    label.append(l[:5])\n",
    "    phrase.append(l[5:])"
   ]
  },
  {
   "cell_type": "code",
   "execution_count": 4,
   "metadata": {},
   "outputs": [
    {
     "name": "stdout",
     "output_type": "stream",
     "text": [
      "{'(ITA)', '(SPA)', '(KOR)', '(GER)', '(JPN)', '(ARA)', '(CHI)', '(TUR)', '(HIN)', '(TEL)', '(FRE)'}\n"
     ]
    }
   ],
   "source": [
    "labelSet=set(label)\n",
    "print(labelSet)"
   ]
  },
  {
   "cell_type": "code",
   "execution_count": 5,
   "metadata": {},
   "outputs": [
    {
     "name": "stdout",
     "output_type": "stream",
     "text": [
      "      label                                                doc\n",
      "0     (GER)   IThe importance and popularity of travelling ...\n",
      "1     (TUR)   It is an important decision , how to plan you...\n",
      "2     (CHI)   Some people believe that young people can enj...\n",
      "3     (TEL)   Travelling is usually considered as good recr...\n",
      "4     (ARA)   i agree that . Life is a person live period o...\n",
      "...     ...                                                ...\n",
      "9895  (CHI)   Nowadays , more and more people go abroad , n...\n",
      "9896  (KOR)   In accomplishing something that is risky come...\n",
      "9897  (SPA)   At the beginning of the 21st century , the in...\n",
      "9898  (HIN)   The number of cars in use across the world ha...\n",
      "9899  (CHI)   Many people think it is betters to have borad...\n",
      "\n",
      "[9900 rows x 2 columns]\n"
     ]
    }
   ],
   "source": [
    "df = pd.DataFrame(list(zip(label, phrase)), columns =['label', 'doc']) \n",
    "print(df) "
   ]
  },
  {
   "cell_type": "code",
   "execution_count": 6,
   "metadata": {},
   "outputs": [
    {
     "name": "stdout",
     "output_type": "stream",
     "text": [
      " IThe importance and popularity of travelling is still raising , Everybody is interested in getting to know other countries and continents but the ways how to do it , are very differently . I agree with the statement that it is the best way to travel in a group led by a tour guide . If you travel in a group and you have a tour guide you get to know the most famous places and you get to know interesting things about the country you decided to visit . The tour guide would organise everything for you , so the only thing you would have to do is to go to the appointments with the group . Another aspect is that you would get to know a lot of interesting people . When you travel in a group it is very easy to get to know other people because usually you sit in the same bus or you sleep in the same hotel like the others do . That is why you are never borring when you travel in groups . If you decide to travel in a group and you visit a country which is dangerouses then the tour guide can inform you about this dangerouses and he can say you how to avoid risks . Sometimes there are special rules or other things which can bring you in trouble when you do not follow them . Furthermore a tour guide can help you with communication problems . When you are not able to speak the language people in the country you visit speak , then the tour guide can help you because he has to be able to speak it . So if you have to visit the doctor or you have to go to the police because something happended to you , then you can ask your tour guide and he would be able to help you . These are the reasons why I prefer to tavel in a group with a tour guide .\n",
      "\n"
     ]
    }
   ],
   "source": [
    "print(df[\"doc\"][0])"
   ]
  },
  {
   "cell_type": "code",
   "execution_count": 7,
   "metadata": {},
   "outputs": [],
   "source": [
    "from nltk.corpus import stopwords\n"
   ]
  },
  {
   "cell_type": "code",
   "execution_count": 8,
   "metadata": {},
   "outputs": [
    {
     "data": {
      "text/plain": [
       "'ithe importance popularity travelling still raising everybody interested getting know countries continents ways differently agree statement best way travel group led tour guide travel group tour guide get know famous places get know interesting things country decided visit tour guide would organise everything thing would go appointments group another aspect would get know lot interesting people travel group easy get know people usually sit bus sleep hotel like others never borring travel groups decide travel group visit country dangerouses tour guide inform dangerouses say avoid risks sometimes special rules things bring trouble follow furthermore tour guide help communication problems able speak language people country visit speak tour guide help able speak visit doctor go police something happended ask tour guide would able help reasons prefer tavel group tour guide'"
      ]
     },
     "execution_count": 8,
     "metadata": {},
     "output_type": "execute_result"
    }
   ],
   "source": [
    "stopwords = set(stopwords.words('english'))\n",
    "\n",
    "def clean_phrase(text):\n",
    "    \"\"\"\n",
    "    Clean the input text \n",
    "    \"\"\"\n",
    "    cleaned_text = text.lower()\n",
    "    #cleaned_text =  re.sub(r'^https?:\\/\\/.*[\\r\\n]*', '', cleaned_text)\n",
    "    cleaned_text = re.sub('<.*>', '', cleaned_text)\n",
    "    cleaned_text = re.sub('[^a-zA-Z0-9\\s]', '', cleaned_text)\n",
    "    cleaned_text = cleaned_text.split()\n",
    "    cleaned_text = [word for word in cleaned_text if word not in stopwords and len(word) > 1]\n",
    "    \n",
    "    return \" \".join(cleaned_text)\n",
    "\n",
    "clean_phrase(df[\"doc\"][0])"
   ]
  },
  {
   "cell_type": "code",
   "execution_count": 9,
   "metadata": {},
   "outputs": [],
   "source": [
    "df[\"doc\"]=cleaned_lines = df[\"doc\"].apply(lambda x: clean_phrase(x))"
   ]
  },
  {
   "cell_type": "code",
   "execution_count": 10,
   "metadata": {},
   "outputs": [
    {
     "data": {
      "text/html": [
       "<div>\n",
       "<style scoped>\n",
       "    .dataframe tbody tr th:only-of-type {\n",
       "        vertical-align: middle;\n",
       "    }\n",
       "\n",
       "    .dataframe tbody tr th {\n",
       "        vertical-align: top;\n",
       "    }\n",
       "\n",
       "    .dataframe thead th {\n",
       "        text-align: right;\n",
       "    }\n",
       "</style>\n",
       "<table border=\"1\" class=\"dataframe\">\n",
       "  <thead>\n",
       "    <tr style=\"text-align: right;\">\n",
       "      <th></th>\n",
       "      <th>label</th>\n",
       "      <th>doc</th>\n",
       "    </tr>\n",
       "  </thead>\n",
       "  <tbody>\n",
       "    <tr>\n",
       "      <th>0</th>\n",
       "      <td>(GER)</td>\n",
       "      <td>ithe importance popularity travelling still ra...</td>\n",
       "    </tr>\n",
       "    <tr>\n",
       "      <th>1</th>\n",
       "      <td>(TUR)</td>\n",
       "      <td>important decision plan syllabus students pref...</td>\n",
       "    </tr>\n",
       "    <tr>\n",
       "      <th>2</th>\n",
       "      <td>(CHI)</td>\n",
       "      <td>people believe young people enjoy life older p...</td>\n",
       "    </tr>\n",
       "    <tr>\n",
       "      <th>3</th>\n",
       "      <td>(TEL)</td>\n",
       "      <td>travelling usually considered good recreation ...</td>\n",
       "    </tr>\n",
       "    <tr>\n",
       "      <th>4</th>\n",
       "      <td>(ARA)</td>\n",
       "      <td>agree life person live period time people beli...</td>\n",
       "    </tr>\n",
       "    <tr>\n",
       "      <th>...</th>\n",
       "      <td>...</td>\n",
       "      <td>...</td>\n",
       "    </tr>\n",
       "    <tr>\n",
       "      <th>9895</th>\n",
       "      <td>(CHI)</td>\n",
       "      <td>nowadays people go abroad matter children old ...</td>\n",
       "    </tr>\n",
       "    <tr>\n",
       "      <th>9896</th>\n",
       "      <td>(KOR)</td>\n",
       "      <td>accomplishing something risky comes reward suc...</td>\n",
       "    </tr>\n",
       "    <tr>\n",
       "      <th>9897</th>\n",
       "      <td>(SPA)</td>\n",
       "      <td>beginning 21st century increasing number cars ...</td>\n",
       "    </tr>\n",
       "    <tr>\n",
       "      <th>9898</th>\n",
       "      <td>(HIN)</td>\n",
       "      <td>number cars use across world growing steadily ...</td>\n",
       "    </tr>\n",
       "    <tr>\n",
       "      <th>9899</th>\n",
       "      <td>(CHI)</td>\n",
       "      <td>many people think betters borad knowledge many...</td>\n",
       "    </tr>\n",
       "  </tbody>\n",
       "</table>\n",
       "<p>9900 rows × 2 columns</p>\n",
       "</div>"
      ],
      "text/plain": [
       "      label                                                doc\n",
       "0     (GER)  ithe importance popularity travelling still ra...\n",
       "1     (TUR)  important decision plan syllabus students pref...\n",
       "2     (CHI)  people believe young people enjoy life older p...\n",
       "3     (TEL)  travelling usually considered good recreation ...\n",
       "4     (ARA)  agree life person live period time people beli...\n",
       "...     ...                                                ...\n",
       "9895  (CHI)  nowadays people go abroad matter children old ...\n",
       "9896  (KOR)  accomplishing something risky comes reward suc...\n",
       "9897  (SPA)  beginning 21st century increasing number cars ...\n",
       "9898  (HIN)  number cars use across world growing steadily ...\n",
       "9899  (CHI)  many people think betters borad knowledge many...\n",
       "\n",
       "[9900 rows x 2 columns]"
      ]
     },
     "execution_count": 10,
     "metadata": {},
     "output_type": "execute_result"
    }
   ],
   "source": [
    "df"
   ]
  },
  {
   "cell_type": "code",
   "execution_count": 49,
   "metadata": {},
   "outputs": [],
   "source": [
    "from sklearn.preprocessing import LabelEncoder\n",
    "X=df[\"doc\"]\n",
    "y=df[\"label\"]\n",
    "lf = LabelEncoder().fit(y)\n",
    "new_y = lf.transform(y)"
   ]
  },
  {
   "attachments": {},
   "cell_type": "markdown",
   "metadata": {},
   "source": [
    "# TF-IDF avec logistic regression"
   ]
  },
  {
   "cell_type": "code",
   "execution_count": 12,
   "metadata": {},
   "outputs": [],
   "source": [
    "from sklearn.feature_extraction.text import CountVectorizer, TfidfVectorizer,TfidfTransformer\n",
    "\n",
    "cv = CountVectorizer(stop_words='english')\n",
    "cv_X = cv.fit_transform(X)\n",
    "\n",
    "tf = TfidfVectorizer(stop_words='english')\n",
    "tf_X = tf.fit_transform(X)"
   ]
  },
  {
   "cell_type": "code",
   "execution_count": 13,
   "metadata": {},
   "outputs": [],
   "source": [
    "from sklearn.model_selection import train_test_split\n",
    "X_train, X_test, y_train, y_test = train_test_split(X, new_y, random_state=4)"
   ]
  },
  {
   "cell_type": "code",
   "execution_count": 14,
   "metadata": {},
   "outputs": [],
   "source": [
    "cv_train = cv.transform(X_train)\n",
    "cv_test = cv.transform(X_test)\n",
    "cv_X = cv.transform(X)\n"
   ]
  },
  {
   "cell_type": "code",
   "execution_count": 15,
   "metadata": {},
   "outputs": [
    {
     "name": "stdout",
     "output_type": "stream",
     "text": [
      "(7425, 53507)\n"
     ]
    },
    {
     "data": {
      "text/plain": [
       "(7425,)"
      ]
     },
     "execution_count": 15,
     "metadata": {},
     "output_type": "execute_result"
    }
   ],
   "source": [
    "print(cv_train.shape)\n",
    "y_train.shape"
   ]
  },
  {
   "cell_type": "code",
   "execution_count": 16,
   "metadata": {},
   "outputs": [
    {
     "name": "stdout",
     "output_type": "stream",
     "text": [
      "LogisticRegression()\n"
     ]
    },
    {
     "name": "stderr",
     "output_type": "stream",
     "text": [
      "c:\\Users\\guoxu\\Desktop\\myenvs\\mlstat\\Lib\\site-packages\\sklearn\\linear_model\\_logistic.py:458: ConvergenceWarning: lbfgs failed to converge (status=1):\n",
      "STOP: TOTAL NO. of ITERATIONS REACHED LIMIT.\n",
      "\n",
      "Increase the number of iterations (max_iter) or scale the data as shown in:\n",
      "    https://scikit-learn.org/stable/modules/preprocessing.html\n",
      "Please also refer to the documentation for alternative solver options:\n",
      "    https://scikit-learn.org/stable/modules/linear_model.html#logistic-regression\n",
      "  n_iter_i = _check_optimize_result(\n"
     ]
    }
   ],
   "source": [
    "from sklearn.linear_model import LogisticRegression\n",
    "\n",
    "lr = LogisticRegression()\n",
    "bow_lr = lr.fit(cv_train, y_train)\n",
    "print(bow_lr)"
   ]
  },
  {
   "cell_type": "code",
   "execution_count": 17,
   "metadata": {},
   "outputs": [],
   "source": [
    "bow_test_predictions = bow_lr.predict(cv_test)"
   ]
  },
  {
   "cell_type": "code",
   "execution_count": 18,
   "metadata": {},
   "outputs": [
    {
     "name": "stdout",
     "output_type": "stream",
     "text": [
      "[8 6 6 ... 0 2 9]\n"
     ]
    }
   ],
   "source": [
    "print(bow_test_predictions)"
   ]
  },
  {
   "cell_type": "code",
   "execution_count": 19,
   "metadata": {},
   "outputs": [
    {
     "name": "stdout",
     "output_type": "stream",
     "text": [
      "Accuracy: 0.5987878787878788\n"
     ]
    }
   ],
   "source": [
    "c = 0\n",
    "for x,y in zip(y_test, bow_test_predictions):\n",
    "    if x == y:\n",
    "        c+=1\n",
    "    \n",
    "print('Accuracy:',c/len(y_test))"
   ]
  },
  {
   "cell_type": "code",
   "execution_count": 20,
   "metadata": {},
   "outputs": [
    {
     "name": "stdout",
     "output_type": "stream",
     "text": [
      "LogisticRegression()\n"
     ]
    },
    {
     "name": "stderr",
     "output_type": "stream",
     "text": [
      "c:\\Users\\guoxu\\Desktop\\myenvs\\mlstat\\Lib\\site-packages\\sklearn\\linear_model\\_logistic.py:458: ConvergenceWarning: lbfgs failed to converge (status=1):\n",
      "STOP: TOTAL NO. of ITERATIONS REACHED LIMIT.\n",
      "\n",
      "Increase the number of iterations (max_iter) or scale the data as shown in:\n",
      "    https://scikit-learn.org/stable/modules/preprocessing.html\n",
      "Please also refer to the documentation for alternative solver options:\n",
      "    https://scikit-learn.org/stable/modules/linear_model.html#logistic-regression\n",
      "  n_iter_i = _check_optimize_result(\n"
     ]
    }
   ],
   "source": [
    "tf_train = tf.transform(X_train)\n",
    "tf_test = tf.transform(X_test)\n",
    "\n",
    "lr = LogisticRegression()\n",
    "tfidf_lr = lr.fit(tf_train, y_train)\n",
    "print(tfidf_lr)"
   ]
  },
  {
   "cell_type": "code",
   "execution_count": 21,
   "metadata": {},
   "outputs": [],
   "source": [
    "tfidf_test_predictions = tfidf_lr.predict(tf_test)"
   ]
  },
  {
   "cell_type": "code",
   "execution_count": 22,
   "metadata": {},
   "outputs": [],
   "source": [
    "def accuracy(label,predict):\n",
    "    c = 0\n",
    "    for x,y in zip(label, predict):\n",
    "        if x == y:\n",
    "            c+=1\n",
    "\n",
    "    print('Accuracy:',c/len(label))"
   ]
  },
  {
   "cell_type": "code",
   "execution_count": 43,
   "metadata": {},
   "outputs": [
    {
     "name": "stdout",
     "output_type": "stream",
     "text": [
      "Accuracy: 0.6218181818181818\n"
     ]
    }
   ],
   "source": [
    "c = 0\n",
    "for x,y in zip(y_test, tfidf_test_predictions):\n",
    "    if x == y:\n",
    "        c+=1\n",
    "    \n",
    "print('Accuracy:',c/len(y_test))"
   ]
  },
  {
   "cell_type": "code",
   "execution_count": 64,
   "metadata": {},
   "outputs": [
    {
     "name": "stdout",
     "output_type": "stream",
     "text": [
      "(ARA)\n",
      "(KOR)\n"
     ]
    }
   ],
   "source": [
    "print(df[\"label\"][4])\n",
    "print(df[\"label\"][10])"
   ]
  },
  {
   "cell_type": "code",
   "execution_count": 58,
   "metadata": {},
   "outputs": [
    {
     "data": {
      "text/plain": [
       "list"
      ]
     },
     "execution_count": 58,
     "metadata": {},
     "output_type": "execute_result"
    }
   ],
   "source": [
    "type(list(y))\n"
   ]
  },
  {
   "cell_type": "code",
   "execution_count": 62,
   "metadata": {},
   "outputs": [
    {
     "data": {
      "text/plain": [
       "array([[122,  10,   7,   6,   9,   6,  12,   4,  11,   6,  20],\n",
       "       [ 12, 147,   5,   9,   6,   1,  17,  27,   4,   3,  13],\n",
       "       [ 10,   6, 141,  10,   5,  17,   5,   4,  18,   4,   3],\n",
       "       [  2,   4,   7, 166,   6,   8,   1,   0,   9,   2,   8],\n",
       "       [  7,   5,   0,   3, 146,   4,   3,   4,   8,  60,   3],\n",
       "       [  5,   7,  12,  14,   2, 136,   1,   1,  15,   0,   4],\n",
       "       [  9,  13,   0,   3,   2,   4, 148,  32,   5,   1,  11],\n",
       "       [  9,  27,   0,   5,  10,   3,  34, 130,   6,   3,  11],\n",
       "       [ 16,   3,  15,  12,   6,  24,   7,   3, 120,   5,  14],\n",
       "       [ 10,   3,   1,   0,  45,   1,   1,   3,   6, 142,   3],\n",
       "       [ 13,   9,  11,  10,  11,   7,   4,   8,  17,   5, 141]],\n",
       "      dtype=int64)"
      ]
     },
     "execution_count": 62,
     "metadata": {},
     "output_type": "execute_result"
    }
   ],
   "source": [
    "import seaborn as sns\n",
    "from sklearn.metrics import confusion_matrix\n",
    "C2 = confusion_matrix(y_test,tfidf_test_predictions)\n",
    "C2"
   ]
  },
  {
   "attachments": {},
   "cell_type": "markdown",
   "metadata": {},
   "source": [
    "# TF-IDF avec SVM"
   ]
  },
  {
   "cell_type": "code",
   "execution_count": 24,
   "metadata": {},
   "outputs": [],
   "source": [
    "tf = TfidfVectorizer(stop_words='english')\n",
    "tf_X = tf.fit_transform(X)\n",
    "\n",
    "X_train, X_test, y_train, y_test = train_test_split(X, new_y, random_state=4)\n",
    "X_train, X_val, y_train, y_val = train_test_split(X_train, y_train, test_size=0.25, random_state=1) # 0.25 x 0.8 = 0.2\n",
    "tf_train = tf.transform(X_train)\n",
    "tf_test = tf.transform(X_test)"
   ]
  },
  {
   "cell_type": "code",
   "execution_count": 25,
   "metadata": {},
   "outputs": [
    {
     "data": {
      "text/html": [
       "<style>#sk-container-id-1 {color: black;background-color: white;}#sk-container-id-1 pre{padding: 0;}#sk-container-id-1 div.sk-toggleable {background-color: white;}#sk-container-id-1 label.sk-toggleable__label {cursor: pointer;display: block;width: 100%;margin-bottom: 0;padding: 0.3em;box-sizing: border-box;text-align: center;}#sk-container-id-1 label.sk-toggleable__label-arrow:before {content: \"▸\";float: left;margin-right: 0.25em;color: #696969;}#sk-container-id-1 label.sk-toggleable__label-arrow:hover:before {color: black;}#sk-container-id-1 div.sk-estimator:hover label.sk-toggleable__label-arrow:before {color: black;}#sk-container-id-1 div.sk-toggleable__content {max-height: 0;max-width: 0;overflow: hidden;text-align: left;background-color: #f0f8ff;}#sk-container-id-1 div.sk-toggleable__content pre {margin: 0.2em;color: black;border-radius: 0.25em;background-color: #f0f8ff;}#sk-container-id-1 input.sk-toggleable__control:checked~div.sk-toggleable__content {max-height: 200px;max-width: 100%;overflow: auto;}#sk-container-id-1 input.sk-toggleable__control:checked~label.sk-toggleable__label-arrow:before {content: \"▾\";}#sk-container-id-1 div.sk-estimator input.sk-toggleable__control:checked~label.sk-toggleable__label {background-color: #d4ebff;}#sk-container-id-1 div.sk-label input.sk-toggleable__control:checked~label.sk-toggleable__label {background-color: #d4ebff;}#sk-container-id-1 input.sk-hidden--visually {border: 0;clip: rect(1px 1px 1px 1px);clip: rect(1px, 1px, 1px, 1px);height: 1px;margin: -1px;overflow: hidden;padding: 0;position: absolute;width: 1px;}#sk-container-id-1 div.sk-estimator {font-family: monospace;background-color: #f0f8ff;border: 1px dotted black;border-radius: 0.25em;box-sizing: border-box;margin-bottom: 0.5em;}#sk-container-id-1 div.sk-estimator:hover {background-color: #d4ebff;}#sk-container-id-1 div.sk-parallel-item::after {content: \"\";width: 100%;border-bottom: 1px solid gray;flex-grow: 1;}#sk-container-id-1 div.sk-label:hover label.sk-toggleable__label {background-color: #d4ebff;}#sk-container-id-1 div.sk-serial::before {content: \"\";position: absolute;border-left: 1px solid gray;box-sizing: border-box;top: 0;bottom: 0;left: 50%;z-index: 0;}#sk-container-id-1 div.sk-serial {display: flex;flex-direction: column;align-items: center;background-color: white;padding-right: 0.2em;padding-left: 0.2em;position: relative;}#sk-container-id-1 div.sk-item {position: relative;z-index: 1;}#sk-container-id-1 div.sk-parallel {display: flex;align-items: stretch;justify-content: center;background-color: white;position: relative;}#sk-container-id-1 div.sk-item::before, #sk-container-id-1 div.sk-parallel-item::before {content: \"\";position: absolute;border-left: 1px solid gray;box-sizing: border-box;top: 0;bottom: 0;left: 50%;z-index: -1;}#sk-container-id-1 div.sk-parallel-item {display: flex;flex-direction: column;z-index: 1;position: relative;background-color: white;}#sk-container-id-1 div.sk-parallel-item:first-child::after {align-self: flex-end;width: 50%;}#sk-container-id-1 div.sk-parallel-item:last-child::after {align-self: flex-start;width: 50%;}#sk-container-id-1 div.sk-parallel-item:only-child::after {width: 0;}#sk-container-id-1 div.sk-dashed-wrapped {border: 1px dashed gray;margin: 0 0.4em 0.5em 0.4em;box-sizing: border-box;padding-bottom: 0.4em;background-color: white;}#sk-container-id-1 div.sk-label label {font-family: monospace;font-weight: bold;display: inline-block;line-height: 1.2em;}#sk-container-id-1 div.sk-label-container {text-align: center;}#sk-container-id-1 div.sk-container {/* jupyter's `normalize.less` sets `[hidden] { display: none; }` but bootstrap.min.css set `[hidden] { display: none !important; }` so we also need the `!important` here to be able to override the default hidden behavior on the sphinx rendered scikit-learn.org. See: https://github.com/scikit-learn/scikit-learn/issues/21755 */display: inline-block !important;position: relative;}#sk-container-id-1 div.sk-text-repr-fallback {display: none;}</style><div id=\"sk-container-id-1\" class=\"sk-top-container\"><div class=\"sk-text-repr-fallback\"><pre>SVC(cache_size=500, gamma=&#x27;auto&#x27;)</pre><b>In a Jupyter environment, please rerun this cell to show the HTML representation or trust the notebook. <br />On GitHub, the HTML representation is unable to render, please try loading this page with nbviewer.org.</b></div><div class=\"sk-container\" hidden><div class=\"sk-item\"><div class=\"sk-estimator sk-toggleable\"><input class=\"sk-toggleable__control sk-hidden--visually\" id=\"sk-estimator-id-1\" type=\"checkbox\" checked><label for=\"sk-estimator-id-1\" class=\"sk-toggleable__label sk-toggleable__label-arrow\">SVC</label><div class=\"sk-toggleable__content\"><pre>SVC(cache_size=500, gamma=&#x27;auto&#x27;)</pre></div></div></div></div></div>"
      ],
      "text/plain": [
       "SVC(cache_size=500, gamma='auto')"
      ]
     },
     "execution_count": 25,
     "metadata": {},
     "output_type": "execute_result"
    }
   ],
   "source": [
    "from sklearn import svm\n",
    "\n",
    "modelSvm = svm.SVC(C=1.0, kernel='rbf',gamma='auto',\n",
    "                   decision_function_shape='ovr',\n",
    "                   cache_size=500)\n",
    "\n",
    "modelSvm.fit(tf_train,y_train)"
   ]
  },
  {
   "cell_type": "code",
   "execution_count": 41,
   "metadata": {},
   "outputs": [],
   "source": [
    "svmPre=modelSvm.predict(tf_test)"
   ]
  },
  {
   "cell_type": "code",
   "execution_count": 27,
   "metadata": {},
   "outputs": [
    {
     "name": "stdout",
     "output_type": "stream",
     "text": [
      "Accuracy: 0.08606060606060606\n"
     ]
    }
   ],
   "source": [
    "accuracy(y_test,svmPre)"
   ]
  },
  {
   "cell_type": "code",
   "execution_count": 28,
   "metadata": {},
   "outputs": [
    {
     "name": "stdout",
     "output_type": "stream",
     "text": [
      "Accuracy: 0.08606060606060606\n"
     ]
    }
   ],
   "source": [
    "accuracy(y_test,svmPre)"
   ]
  },
  {
   "cell_type": "code",
   "execution_count": 42,
   "metadata": {},
   "outputs": [
    {
     "name": "stdout",
     "output_type": "stream",
     "text": [
      "[ 8  7  6 ... 10  8  9]\n",
      "{0}\n"
     ]
    }
   ],
   "source": [
    "print(y_test)\n",
    "print(set(svmPre))"
   ]
  },
  {
   "cell_type": "code",
   "execution_count": 31,
   "metadata": {},
   "outputs": [
    {
     "data": {
      "text/plain": [
       "array([[213,   0,   0,   0,   0,   0,   0,   0,   0,   0,   0],\n",
       "       [244,   0,   0,   0,   0,   0,   0,   0,   0,   0,   0],\n",
       "       [223,   0,   0,   0,   0,   0,   0,   0,   0,   0,   0],\n",
       "       [213,   0,   0,   0,   0,   0,   0,   0,   0,   0,   0],\n",
       "       [243,   0,   0,   0,   0,   0,   0,   0,   0,   0,   0],\n",
       "       [197,   0,   0,   0,   0,   0,   0,   0,   0,   0,   0],\n",
       "       [228,   0,   0,   0,   0,   0,   0,   0,   0,   0,   0],\n",
       "       [238,   0,   0,   0,   0,   0,   0,   0,   0,   0,   0],\n",
       "       [225,   0,   0,   0,   0,   0,   0,   0,   0,   0,   0],\n",
       "       [215,   0,   0,   0,   0,   0,   0,   0,   0,   0,   0],\n",
       "       [236,   0,   0,   0,   0,   0,   0,   0,   0,   0,   0]],\n",
       "      dtype=int64)"
      ]
     },
     "execution_count": 31,
     "metadata": {},
     "output_type": "execute_result"
    }
   ],
   "source": [
    "from sklearn.metrics import confusion_matrix\n",
    "confusion_matrix(y_test,svmPre)"
   ]
  },
  {
   "cell_type": "code",
   "execution_count": null,
   "metadata": {},
   "outputs": [],
   "source": []
  }
 ],
 "metadata": {
  "kernelspec": {
   "display_name": "mlstat",
   "language": "python",
   "name": "python3"
  },
  "language_info": {
   "codemirror_mode": {
    "name": "ipython",
    "version": 3
   },
   "file_extension": ".py",
   "mimetype": "text/x-python",
   "name": "python",
   "nbconvert_exporter": "python",
   "pygments_lexer": "ipython3",
   "version": "3.11.1"
  },
  "orig_nbformat": 4,
  "vscode": {
   "interpreter": {
    "hash": "d001fa7485ee5417707eb045e9a85cc01382595252d4975bf0773f2086f2f98b"
   }
  }
 },
 "nbformat": 4,
 "nbformat_minor": 2
}
