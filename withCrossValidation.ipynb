{
 "cells": [
  {
   "cell_type": "code",
   "execution_count": 1,
   "metadata": {},
   "outputs": [
    {
     "name": "stdout",
     "output_type": "stream",
     "text": [
      "[('(ARA)', 0), ('(CHI)', 1), ('(FRE)', 2), ('(GER)', 3), ('(HIN)', 4), ('(ITA)', 5), ('(JPN)', 6), ('(KOR)', 7), ('(SPA)', 8), ('(TEL)', 9), ('(TUR)', 10)]\n"
     ]
    }
   ],
   "source": [
    "import pandas as pd\n",
    "import numpy as np\n",
    "import re\n",
    "from nltk.stem import WordNetLemmatizer\n",
    "from nltk.corpus import stopwords\n",
    "import nltk\n",
    "from sklearn.preprocessing import LabelEncoder\n",
    "\n",
    "f = open(\"train.txt\",'r')\n",
    "\n",
    "label=[]\n",
    "phrase=[]\n",
    "lines = f.readlines()\n",
    "for l in lines:\n",
    "    label.append(l[:5])\n",
    "    phrase.append(l[5:])\n",
    "    \n",
    "labelSet=set(label)\n",
    "df = pd.DataFrame(list(zip(label, phrase)), columns =['label', 'doc']) \n",
    "\n",
    "stopwords = set(stopwords.words('english'))\n",
    "\n",
    "def clean_phrase(text):\n",
    "    \"\"\"\n",
    "    Clean the input text \n",
    "    \"\"\"\n",
    "    cleaned_text = text.lower()\n",
    "    #cleaned_text =  re.sub(r'^https?:\\/\\/.*[\\r\\n]*', '', cleaned_text)\n",
    "    cleaned_text = re.sub('<.*>', '', cleaned_text)\n",
    "    cleaned_text = re.sub('[^a-zA-Z0-9\\s]', '', cleaned_text)\n",
    "    cleaned_text = cleaned_text.split()\n",
    "    cleaned_text = [word for word in cleaned_text if word not in stopwords and len(word) > 1]\n",
    "    \n",
    "    return \" \".join(cleaned_text)\n",
    "\n",
    "df[\"doc\"]=cleaned_lines = df[\"doc\"].apply(lambda x: clean_phrase(x))\n",
    "\n",
    "X=df[\"doc\"]\n",
    "\n",
    "y=df[\"label\"].tolist()\n",
    "le = LabelEncoder()\n",
    "le.fit(df.label.unique())\n",
    "\n",
    "langue = le.classes_\n",
    "langue_encoder = [(langue[i],i) for i in range(len(langue))]\n",
    "print(langue_encoder)\n",
    "new_y=le.fit_transform(y)\n"
   ]
  },
  {
   "cell_type": "code",
   "execution_count": 3,
   "metadata": {},
   "outputs": [
    {
     "name": "stdout",
     "output_type": "stream",
     "text": [
      "(9900,) (9900,)\n"
     ]
    }
   ],
   "source": [
    "print(X.shape, new_y.shape)"
   ]
  },
  {
   "cell_type": "markdown",
   "metadata": {},
   "source": []
  },
  {
   "attachments": {},
   "cell_type": "markdown",
   "metadata": {},
   "source": [
    "### K-fold cross validation "
   ]
  },
  {
   "cell_type": "code",
   "execution_count": null,
   "metadata": {},
   "outputs": [],
   "source": []
  }
 ],
 "metadata": {
  "kernelspec": {
   "display_name": "mlstat",
   "language": "python",
   "name": "python3"
  },
  "language_info": {
   "codemirror_mode": {
    "name": "ipython",
    "version": 3
   },
   "file_extension": ".py",
   "mimetype": "text/x-python",
   "name": "python",
   "nbconvert_exporter": "python",
   "pygments_lexer": "ipython3",
   "version": "3.11.1"
  },
  "orig_nbformat": 4,
  "vscode": {
   "interpreter": {
    "hash": "d001fa7485ee5417707eb045e9a85cc01382595252d4975bf0773f2086f2f98b"
   }
  }
 },
 "nbformat": 4,
 "nbformat_minor": 2
}
